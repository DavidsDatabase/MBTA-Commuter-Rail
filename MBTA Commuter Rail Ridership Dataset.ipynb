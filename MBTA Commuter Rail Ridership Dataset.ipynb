{
 "cells": [
  {
   "cell_type": "code",
   "execution_count": 311,
   "id": "c7c95863",
   "metadata": {},
   "outputs": [],
   "source": [
    "## import packages\n",
    "\n",
    "import pandas as pd\n",
    "import numpy as np\n",
    "import matplotlib.pyplot as plt\n",
    "from matplotlib.ticker import ScalarFormatter\n"
   ]
  },
  {
   "cell_type": "code",
   "execution_count": 312,
   "id": "138d3824",
   "metadata": {},
   "outputs": [],
   "source": [
    "## read csv file downloaded from MBTA website (https://mbta-massdot.opendata.arcgis.com/datasets/MassDOT::mbta-commuter-rail-ridership-by-service-date-and-line/about)\n",
    "\n",
    "df = pd.read_csv(r'C:\\Users\\Donut\\Downloads\\MBTA_Commuter_Rail_Ridership_by_Service_Date_and_Line.csv')"
   ]
  },
  {
   "cell_type": "code",
   "execution_count": 313,
   "id": "d0c7da59",
   "metadata": {},
   "outputs": [
    {
     "data": {
      "text/html": [
       "<div>\n",
       "<style scoped>\n",
       "    .dataframe tbody tr th:only-of-type {\n",
       "        vertical-align: middle;\n",
       "    }\n",
       "\n",
       "    .dataframe tbody tr th {\n",
       "        vertical-align: top;\n",
       "    }\n",
       "\n",
       "    .dataframe thead th {\n",
       "        text-align: right;\n",
       "    }\n",
       "</style>\n",
       "<table border=\"1\" class=\"dataframe\">\n",
       "  <thead>\n",
       "    <tr style=\"text-align: right;\">\n",
       "      <th></th>\n",
       "      <th>ObjectId</th>\n",
       "      <th>service_date</th>\n",
       "      <th>line</th>\n",
       "      <th>estimated_boardings</th>\n",
       "    </tr>\n",
       "  </thead>\n",
       "  <tbody>\n",
       "    <tr>\n",
       "      <th>0</th>\n",
       "      <td>1</td>\n",
       "      <td>2020/06/22 04:00:00+00</td>\n",
       "      <td>Providence/Stoughton</td>\n",
       "      <td>447.0</td>\n",
       "    </tr>\n",
       "    <tr>\n",
       "      <th>1</th>\n",
       "      <td>2</td>\n",
       "      <td>2020/06/22 04:00:00+00</td>\n",
       "      <td>Newburyport/Rockport</td>\n",
       "      <td>697.0</td>\n",
       "    </tr>\n",
       "    <tr>\n",
       "      <th>2</th>\n",
       "      <td>3</td>\n",
       "      <td>2020/06/22 04:00:00+00</td>\n",
       "      <td>Framingham/Worcester</td>\n",
       "      <td>33.0</td>\n",
       "    </tr>\n",
       "    <tr>\n",
       "      <th>3</th>\n",
       "      <td>4</td>\n",
       "      <td>2020/06/22 04:00:00+00</td>\n",
       "      <td>Franklin/Foxboro</td>\n",
       "      <td>276.0</td>\n",
       "    </tr>\n",
       "    <tr>\n",
       "      <th>4</th>\n",
       "      <td>5</td>\n",
       "      <td>2020/06/22 04:00:00+00</td>\n",
       "      <td>Middleborough/Lakeville</td>\n",
       "      <td>601.0</td>\n",
       "    </tr>\n",
       "  </tbody>\n",
       "</table>\n",
       "</div>"
      ],
      "text/plain": [
       "   ObjectId            service_date                     line  \\\n",
       "0         1  2020/06/22 04:00:00+00     Providence/Stoughton   \n",
       "1         2  2020/06/22 04:00:00+00     Newburyport/Rockport   \n",
       "2         3  2020/06/22 04:00:00+00     Framingham/Worcester   \n",
       "3         4  2020/06/22 04:00:00+00         Franklin/Foxboro   \n",
       "4         5  2020/06/22 04:00:00+00  Middleborough/Lakeville   \n",
       "\n",
       "   estimated_boardings  \n",
       "0                447.0  \n",
       "1                697.0  \n",
       "2                 33.0  \n",
       "3                276.0  \n",
       "4                601.0  "
      ]
     },
     "execution_count": 313,
     "metadata": {},
     "output_type": "execute_result"
    }
   ],
   "source": [
    "## quick look at the dataset\n",
    "\n",
    "df.head()"
   ]
  },
  {
   "cell_type": "code",
   "execution_count": 314,
   "id": "05182c8a",
   "metadata": {},
   "outputs": [
    {
     "name": "stdout",
     "output_type": "stream",
     "text": [
      "<class 'pandas.core.frame.DataFrame'>\n",
      "RangeIndex: 13340 entries, 0 to 13339\n",
      "Data columns (total 4 columns):\n",
      " #   Column               Non-Null Count  Dtype  \n",
      "---  ------               --------------  -----  \n",
      " 0   ObjectId             13340 non-null  int64  \n",
      " 1   service_date         13340 non-null  object \n",
      " 2   line                 13340 non-null  object \n",
      " 3   estimated_boardings  13340 non-null  float64\n",
      "dtypes: float64(1), int64(1), object(2)\n",
      "memory usage: 417.0+ KB\n"
     ]
    }
   ],
   "source": [
    "## looking at column names, data types, number of rows(13340), number of columns(4), and number of non-null values\n",
    "\n",
    "df.info()"
   ]
  },
  {
   "cell_type": "code",
   "execution_count": 315,
   "id": "2cc28e8f",
   "metadata": {},
   "outputs": [
    {
     "data": {
      "text/plain": [
       "0"
      ]
     },
     "execution_count": 315,
     "metadata": {},
     "output_type": "execute_result"
    }
   ],
   "source": [
    "## checking if there are duplicate data\n",
    "\n",
    "df.duplicated().sum()"
   ]
  },
  {
   "cell_type": "code",
   "execution_count": 316,
   "id": "3fed5c3b",
   "metadata": {},
   "outputs": [
    {
     "data": {
      "text/plain": [
       "ObjectId               0\n",
       "service_date           0\n",
       "line                   0\n",
       "estimated_boardings    0\n",
       "dtype: int64"
      ]
     },
     "execution_count": 316,
     "metadata": {},
     "output_type": "execute_result"
    }
   ],
   "source": [
    "## checking if there are any NaN data\n",
    "\n",
    "df.isna().sum()"
   ]
  },
  {
   "cell_type": "code",
   "execution_count": 317,
   "id": "5831a605",
   "metadata": {},
   "outputs": [],
   "source": [
    "## converting 'service_date' column to datetime format to split into month, day, year columns\n",
    "\n",
    "df['service_date'] = pd.to_datetime(df['service_date'])\n",
    "\n",
    "df['month'] = df['service_date'].dt.month\n",
    "df['day'] = df['service_date'].dt.day\n",
    "df['year'] = df['service_date'].dt.year"
   ]
  },
  {
   "cell_type": "code",
   "execution_count": 318,
   "id": "1a1738e1",
   "metadata": {},
   "outputs": [
    {
     "data": {
      "text/html": [
       "<div>\n",
       "<style scoped>\n",
       "    .dataframe tbody tr th:only-of-type {\n",
       "        vertical-align: middle;\n",
       "    }\n",
       "\n",
       "    .dataframe tbody tr th {\n",
       "        vertical-align: top;\n",
       "    }\n",
       "\n",
       "    .dataframe thead th {\n",
       "        text-align: right;\n",
       "    }\n",
       "</style>\n",
       "<table border=\"1\" class=\"dataframe\">\n",
       "  <thead>\n",
       "    <tr style=\"text-align: right;\">\n",
       "      <th></th>\n",
       "      <th>ObjectId</th>\n",
       "      <th>service_date</th>\n",
       "      <th>line</th>\n",
       "      <th>estimated_boardings</th>\n",
       "      <th>month</th>\n",
       "      <th>day</th>\n",
       "      <th>year</th>\n",
       "    </tr>\n",
       "  </thead>\n",
       "  <tbody>\n",
       "    <tr>\n",
       "      <th>0</th>\n",
       "      <td>1</td>\n",
       "      <td>2020-06-22 04:00:00+00:00</td>\n",
       "      <td>Providence/Stoughton</td>\n",
       "      <td>447.0</td>\n",
       "      <td>6</td>\n",
       "      <td>22</td>\n",
       "      <td>2020</td>\n",
       "    </tr>\n",
       "    <tr>\n",
       "      <th>1</th>\n",
       "      <td>2</td>\n",
       "      <td>2020-06-22 04:00:00+00:00</td>\n",
       "      <td>Newburyport/Rockport</td>\n",
       "      <td>697.0</td>\n",
       "      <td>6</td>\n",
       "      <td>22</td>\n",
       "      <td>2020</td>\n",
       "    </tr>\n",
       "    <tr>\n",
       "      <th>2</th>\n",
       "      <td>3</td>\n",
       "      <td>2020-06-22 04:00:00+00:00</td>\n",
       "      <td>Framingham/Worcester</td>\n",
       "      <td>33.0</td>\n",
       "      <td>6</td>\n",
       "      <td>22</td>\n",
       "      <td>2020</td>\n",
       "    </tr>\n",
       "    <tr>\n",
       "      <th>3</th>\n",
       "      <td>4</td>\n",
       "      <td>2020-06-22 04:00:00+00:00</td>\n",
       "      <td>Franklin/Foxboro</td>\n",
       "      <td>276.0</td>\n",
       "      <td>6</td>\n",
       "      <td>22</td>\n",
       "      <td>2020</td>\n",
       "    </tr>\n",
       "    <tr>\n",
       "      <th>4</th>\n",
       "      <td>5</td>\n",
       "      <td>2020-06-22 04:00:00+00:00</td>\n",
       "      <td>Middleborough/Lakeville</td>\n",
       "      <td>601.0</td>\n",
       "      <td>6</td>\n",
       "      <td>22</td>\n",
       "      <td>2020</td>\n",
       "    </tr>\n",
       "  </tbody>\n",
       "</table>\n",
       "</div>"
      ],
      "text/plain": [
       "   ObjectId              service_date                     line  \\\n",
       "0         1 2020-06-22 04:00:00+00:00     Providence/Stoughton   \n",
       "1         2 2020-06-22 04:00:00+00:00     Newburyport/Rockport   \n",
       "2         3 2020-06-22 04:00:00+00:00     Framingham/Worcester   \n",
       "3         4 2020-06-22 04:00:00+00:00         Franklin/Foxboro   \n",
       "4         5 2020-06-22 04:00:00+00:00  Middleborough/Lakeville   \n",
       "\n",
       "   estimated_boardings  month  day  year  \n",
       "0                447.0      6   22  2020  \n",
       "1                697.0      6   22  2020  \n",
       "2                 33.0      6   22  2020  \n",
       "3                276.0      6   22  2020  \n",
       "4                601.0      6   22  2020  "
      ]
     },
     "execution_count": 318,
     "metadata": {},
     "output_type": "execute_result"
    }
   ],
   "source": [
    "df.head()"
   ]
  },
  {
   "cell_type": "code",
   "execution_count": 322,
   "id": "2a664850",
   "metadata": {},
   "outputs": [],
   "source": [
    "## converting 'estimated_boardings' to int as there shouldn't be any decimals for passenger boardings\n",
    "\n",
    "df['estimated_boardings'] = df['estimated_boardings'].astype('int64')"
   ]
  },
  {
   "cell_type": "markdown",
   "id": "168f8b56",
   "metadata": {},
   "source": [
    "## 1.) Which line had the most boardings?"
   ]
  },
  {
   "cell_type": "code",
   "execution_count": 323,
   "id": "d3bb818c",
   "metadata": {},
   "outputs": [
    {
     "data": {
      "text/plain": [
       "line\n",
       "Fairmount                   1518028\n",
       "Fitchburg                   3206518\n",
       "Framingham/Worcester        6771082\n",
       "Franklin/Foxboro            4452905\n",
       "Greenbush                   1823472\n",
       "Haverhill                   3175366\n",
       "Kingston                    2447394\n",
       "Lowell                      3957857\n",
       "Middleborough/Lakeville     3285296\n",
       "Needham                     2704563\n",
       "Newburyport/Rockport        7055788\n",
       "Providence/Stoughton       10894972\n",
       "Name: estimated_boardings, dtype: int64"
      ]
     },
     "execution_count": 323,
     "metadata": {},
     "output_type": "execute_result"
    }
   ],
   "source": [
    "total_boardings = df.groupby('line')['estimated_boardings'].sum()\n",
    "\n",
    "total_boardings"
   ]
  },
  {
   "cell_type": "code",
   "execution_count": 324,
   "id": "fab27eec",
   "metadata": {},
   "outputs": [
    {
     "data": {
      "image/png": "[encoded data removed]",
      "text/plain": [
       "<Figure size 640x480 with 1 Axes>"
      ]
     },
     "metadata": {},
     "output_type": "display_data"
    }
   ],
   "source": [
    "## plotting bar graph to show total boardings per each line\n",
    "\n",
    "lines = ['Fairmount', 'Fitchburg', 'Framingham/Worcester', 'Franklin/Foxboro', 'Greenbush', 'Haverhill', 'Kingston', 'Lowell', 'Middleborough/Lakeville', 'Needham', 'Newburyport/Rockport', 'Providence/Stoughton']\n",
    "\n",
    "plt.bar(x = lines, height = total_boardings)\n",
    "plt.ticklabel_format(style='plain', axis='y')\n",
    "plt.xticks(lines, rotation = 90)\n",
    "plt.xlabel('Line')\n",
    "plt.ylabel('Total Boardings')\n",
    "plt.title('Total Boardings per Line')\n",
    "plt.show()"
   ]
  },
  {
   "cell_type": "markdown",
   "id": "d760838e",
   "metadata": {},
   "source": [
    "## 2.) Comparing total boardings per year"
   ]
  },
  {
   "cell_type": "code",
   "execution_count": 325,
   "id": "17996c34",
   "metadata": {},
   "outputs": [
    {
     "name": "stdout",
     "output_type": "stream",
     "text": [
      "2020-06-22 04:00:00+00:00\n",
      "2023-10-31 04:00:00+00:00\n"
     ]
    }
   ],
   "source": [
    "## this dataset contains dates from 6/22/2020 to 10/31/2023\n",
    "\n",
    "print(df['service_date'].min())\n",
    "print(df['service_date'].max())"
   ]
  },
  {
   "cell_type": "code",
   "execution_count": 326,
   "id": "03f8195f",
   "metadata": {},
   "outputs": [
    {
     "data": {
      "text/plain": [
       "year\n",
       "2020     1872335\n",
       "2021     8812500\n",
       "2022    19022244\n",
       "2023    21586162\n",
       "Name: estimated_boardings, dtype: int64"
      ]
     },
     "execution_count": 326,
     "metadata": {},
     "output_type": "execute_result"
    }
   ],
   "source": [
    "## grouping together the total boardings per year\n",
    "yearly_boardings = df.groupby('year')['estimated_boardings'].sum()\n",
    "\n",
    "yearly_boardings"
   ]
  },
  {
   "cell_type": "code",
   "execution_count": 327,
   "id": "f42cd11a",
   "metadata": {},
   "outputs": [
    {
     "data": {
      "image/png": "[encoded data removed]",
      "text/plain": [
       "<Figure size 640x480 with 1 Axes>"
      ]
     },
     "metadata": {},
     "output_type": "display_data"
    }
   ],
   "source": [
    "## plotting bar graph to show total boardings per year\n",
    "\n",
    "years = ['2020', '2021', '2022', '2023']\n",
    "\n",
    "plt.bar(years, height = yearly_boardings)\n",
    "plt.ticklabel_format(style='plain', axis='y')\n",
    "plt.xlabel('Year')\n",
    "plt.ylabel('Boardings')\n",
    "plt.title('Total Boardings per Year')\n",
    "plt.show()"
   ]
  },
  {
   "cell_type": "markdown",
   "id": "4626abb5",
   "metadata": {},
   "source": [
    "## 3.) Comparing total boardings between the months in 2023"
   ]
  },
  {
   "cell_type": "code",
   "execution_count": 328,
   "id": "5e062021",
   "metadata": {},
   "outputs": [
    {
     "data": {
      "text/plain": [
       "month\n",
       "1     1840509\n",
       "2     1704568\n",
       "3     2106535\n",
       "4     2075362\n",
       "5     2318035\n",
       "6     2288229\n",
       "7     2187348\n",
       "8     2396618\n",
       "9     2121006\n",
       "10    2547952\n",
       "Name: estimated_boardings, dtype: int64"
      ]
     },
     "execution_count": 328,
     "metadata": {},
     "output_type": "execute_result"
    }
   ],
   "source": [
    "## filtering data to year '2023' and then grouping together data by 'month'\n",
    "\n",
    "monthly_2023 = df[df['year'] == 2023].groupby('month')['estimated_boardings'].sum()\n",
    "monthly_2023"
   ]
  },
  {
   "cell_type": "code",
   "execution_count": 329,
   "id": "adf5a913",
   "metadata": {},
   "outputs": [
    {
     "data": {
      "image/png": "[encoded data removed]",
      "text/plain": [
       "<Figure size 640x480 with 1 Axes>"
      ]
     },
     "metadata": {},
     "output_type": "display_data"
    }
   ],
   "source": [
    "## plotting the bar graph\n",
    "month = ['Jan','Feb','Mar','Apr','May','Jun','Jul','Aug', 'Sep','Oct']\n",
    "\n",
    "plt.bar(month, monthly_2023)\n",
    "plt.ticklabel_format(style = 'plain', axis = 'y')\n",
    "plt.xticks(month)\n",
    "plt.xlabel('Month')\n",
    "plt.ylabel('Boardings')\n",
    "plt.title('Total Boardings per Month in 2023')\n",
    "plt.show()"
   ]
  },
  {
   "cell_type": "markdown",
   "id": "c32ee214",
   "metadata": {},
   "source": [
    "## 4.) Comparing total estimated boardings per month for all 4 years"
   ]
  },
  {
   "cell_type": "code",
   "execution_count": 289,
   "id": "87b021b1",
   "metadata": {},
   "outputs": [],
   "source": [
    "## gather the other year's monthly estimated boardings\n",
    "monthly_2023 = df[df['year'] == 2023].groupby('month')['estimated_boardings'].sum()\n",
    "monthly_2022 = df[df['year'] == 2022].groupby('month')['estimated_boardings'].sum()\n",
    "monthly_2021 = df[df['year'] == 2021].groupby('month')['estimated_boardings'].sum()\n",
    "monthly_2020 = df[df['year'] == 2020].groupby('month')['estimated_boardings'].sum()\n"
   ]
  },
  {
   "cell_type": "code",
   "execution_count": 290,
   "id": "e2fe79db",
   "metadata": {},
   "outputs": [],
   "source": [
    "## create dataframes for each year and rename column of each dataframe to their respective year's data\n",
    "\n",
    "m2023 = pd.DataFrame(monthly_2023)\n",
    "m2023.rename(columns = {'estimated_boardings': '2023_estimated_boardings'}, inplace=True)\n",
    "\n",
    "m2022 = pd.DataFrame(monthly_2022)\n",
    "m2022.rename(columns = {'estimated_boardings': '2022_estimated_boardings'}, inplace=True)\n",
    "\n",
    "m2021 = pd.DataFrame(monthly_2021)\n",
    "m2021.rename(columns = {'estimated_boardings': '2021_estimated_boardings'}, inplace=True)\n",
    "\n",
    "m2020 = pd.DataFrame(monthly_2020)\n",
    "m2020.rename(columns = {'estimated_boardings': '2020_estimated_boardings'}, inplace=True)"
   ]
  },
  {
   "cell_type": "code",
   "execution_count": 293,
   "id": "907807d2",
   "metadata": {},
   "outputs": [
    {
     "data": {
      "text/html": [
       "<div>\n",
       "<style scoped>\n",
       "    .dataframe tbody tr th:only-of-type {\n",
       "        vertical-align: middle;\n",
       "    }\n",
       "\n",
       "    .dataframe tbody tr th {\n",
       "        vertical-align: top;\n",
       "    }\n",
       "\n",
       "    .dataframe thead th {\n",
       "        text-align: right;\n",
       "    }\n",
       "</style>\n",
       "<table border=\"1\" class=\"dataframe\">\n",
       "  <thead>\n",
       "    <tr style=\"text-align: right;\">\n",
       "      <th></th>\n",
       "      <th>2020_estimated_boardings</th>\n",
       "      <th>2021_estimated_boardings</th>\n",
       "      <th>2022_estimated_boardings</th>\n",
       "      <th>2023_estimated_boardings</th>\n",
       "    </tr>\n",
       "    <tr>\n",
       "      <th>month</th>\n",
       "      <th></th>\n",
       "      <th></th>\n",
       "      <th></th>\n",
       "      <th></th>\n",
       "    </tr>\n",
       "  </thead>\n",
       "  <tbody>\n",
       "    <tr>\n",
       "      <th>1</th>\n",
       "      <td>NaN</td>\n",
       "      <td>222208</td>\n",
       "      <td>859440</td>\n",
       "      <td>1840509.0</td>\n",
       "    </tr>\n",
       "    <tr>\n",
       "      <th>2</th>\n",
       "      <td>NaN</td>\n",
       "      <td>231903</td>\n",
       "      <td>970097</td>\n",
       "      <td>1704568.0</td>\n",
       "    </tr>\n",
       "    <tr>\n",
       "      <th>3</th>\n",
       "      <td>NaN</td>\n",
       "      <td>311295</td>\n",
       "      <td>1489943</td>\n",
       "      <td>2106535.0</td>\n",
       "    </tr>\n",
       "    <tr>\n",
       "      <th>4</th>\n",
       "      <td>NaN</td>\n",
       "      <td>368405</td>\n",
       "      <td>1509267</td>\n",
       "      <td>2075362.0</td>\n",
       "    </tr>\n",
       "    <tr>\n",
       "      <th>5</th>\n",
       "      <td>NaN</td>\n",
       "      <td>475892</td>\n",
       "      <td>1526921</td>\n",
       "      <td>2318035.0</td>\n",
       "    </tr>\n",
       "    <tr>\n",
       "      <th>6</th>\n",
       "      <td>45348.0</td>\n",
       "      <td>615247</td>\n",
       "      <td>1629720</td>\n",
       "      <td>2288229.0</td>\n",
       "    </tr>\n",
       "    <tr>\n",
       "      <th>7</th>\n",
       "      <td>249047.0</td>\n",
       "      <td>771532</td>\n",
       "      <td>1578646</td>\n",
       "      <td>2187348.0</td>\n",
       "    </tr>\n",
       "    <tr>\n",
       "      <th>8</th>\n",
       "      <td>275944.0</td>\n",
       "      <td>860458</td>\n",
       "      <td>1731096</td>\n",
       "      <td>2396618.0</td>\n",
       "    </tr>\n",
       "    <tr>\n",
       "      <th>9</th>\n",
       "      <td>318729.0</td>\n",
       "      <td>1135782</td>\n",
       "      <td>1955305</td>\n",
       "      <td>2121006.0</td>\n",
       "    </tr>\n",
       "    <tr>\n",
       "      <th>10</th>\n",
       "      <td>346776.0</td>\n",
       "      <td>1361595</td>\n",
       "      <td>2105849</td>\n",
       "      <td>2547952.0</td>\n",
       "    </tr>\n",
       "    <tr>\n",
       "      <th>11</th>\n",
       "      <td>342807.0</td>\n",
       "      <td>1316799</td>\n",
       "      <td>1913514</td>\n",
       "      <td>NaN</td>\n",
       "    </tr>\n",
       "    <tr>\n",
       "      <th>12</th>\n",
       "      <td>293684.0</td>\n",
       "      <td>1141384</td>\n",
       "      <td>1752446</td>\n",
       "      <td>NaN</td>\n",
       "    </tr>\n",
       "  </tbody>\n",
       "</table>\n",
       "</div>"
      ],
      "text/plain": [
       "       2020_estimated_boardings  2021_estimated_boardings  \\\n",
       "month                                                       \n",
       "1                           NaN                    222208   \n",
       "2                           NaN                    231903   \n",
       "3                           NaN                    311295   \n",
       "4                           NaN                    368405   \n",
       "5                           NaN                    475892   \n",
       "6                       45348.0                    615247   \n",
       "7                      249047.0                    771532   \n",
       "8                      275944.0                    860458   \n",
       "9                      318729.0                   1135782   \n",
       "10                     346776.0                   1361595   \n",
       "11                     342807.0                   1316799   \n",
       "12                     293684.0                   1141384   \n",
       "\n",
       "       2022_estimated_boardings  2023_estimated_boardings  \n",
       "month                                                      \n",
       "1                        859440                 1840509.0  \n",
       "2                        970097                 1704568.0  \n",
       "3                       1489943                 2106535.0  \n",
       "4                       1509267                 2075362.0  \n",
       "5                       1526921                 2318035.0  \n",
       "6                       1629720                 2288229.0  \n",
       "7                       1578646                 2187348.0  \n",
       "8                       1731096                 2396618.0  \n",
       "9                       1955305                 2121006.0  \n",
       "10                      2105849                 2547952.0  \n",
       "11                      1913514                       NaN  \n",
       "12                      1752446                       NaN  "
      ]
     },
     "execution_count": 293,
     "metadata": {},
     "output_type": "execute_result"
    }
   ],
   "source": [
    "## concatenate all yearly dataframes into 1 dataframe\n",
    "\n",
    "df2 = pd.concat([m2020, m2021, m2022, m2023], axis=1)\n",
    "df2.sort_values(by='month')"
   ]
  },
  {
   "cell_type": "markdown",
   "id": "b7a93ee6",
   "metadata": {},
   "source": [
    "## 5.) Comparing Percent Increase/Decrease between months per year"
   ]
  },
  {
   "cell_type": "code",
   "execution_count": 310,
   "id": "de51c3e9",
   "metadata": {},
   "outputs": [
    {
     "data": {
      "text/html": [
       "<div>\n",
       "<style scoped>\n",
       "    .dataframe tbody tr th:only-of-type {\n",
       "        vertical-align: middle;\n",
       "    }\n",
       "\n",
       "    .dataframe tbody tr th {\n",
       "        vertical-align: top;\n",
       "    }\n",
       "\n",
       "    .dataframe thead th {\n",
       "        text-align: right;\n",
       "    }\n",
       "</style>\n",
       "<table border=\"1\" class=\"dataframe\">\n",
       "  <thead>\n",
       "    <tr style=\"text-align: right;\">\n",
       "      <th></th>\n",
       "      <th>2020_estimated_boardings</th>\n",
       "      <th>2021_estimated_boardings</th>\n",
       "      <th>2022_estimated_boardings</th>\n",
       "      <th>2023_estimated_boardings</th>\n",
       "      <th>2020_2021_percentage</th>\n",
       "      <th>2021_2022_percentage</th>\n",
       "      <th>2022_2023_percentage</th>\n",
       "    </tr>\n",
       "    <tr>\n",
       "      <th>month</th>\n",
       "      <th></th>\n",
       "      <th></th>\n",
       "      <th></th>\n",
       "      <th></th>\n",
       "      <th></th>\n",
       "      <th></th>\n",
       "      <th></th>\n",
       "    </tr>\n",
       "  </thead>\n",
       "  <tbody>\n",
       "    <tr>\n",
       "      <th>1</th>\n",
       "      <td>NaN</td>\n",
       "      <td>222208</td>\n",
       "      <td>859440</td>\n",
       "      <td>1840509.0</td>\n",
       "      <td>NaN</td>\n",
       "      <td>286.77</td>\n",
       "      <td>114.15</td>\n",
       "    </tr>\n",
       "    <tr>\n",
       "      <th>2</th>\n",
       "      <td>NaN</td>\n",
       "      <td>231903</td>\n",
       "      <td>970097</td>\n",
       "      <td>1704568.0</td>\n",
       "      <td>NaN</td>\n",
       "      <td>318.32</td>\n",
       "      <td>75.71</td>\n",
       "    </tr>\n",
       "    <tr>\n",
       "      <th>3</th>\n",
       "      <td>NaN</td>\n",
       "      <td>311295</td>\n",
       "      <td>1489943</td>\n",
       "      <td>2106535.0</td>\n",
       "      <td>NaN</td>\n",
       "      <td>378.63</td>\n",
       "      <td>41.38</td>\n",
       "    </tr>\n",
       "    <tr>\n",
       "      <th>4</th>\n",
       "      <td>NaN</td>\n",
       "      <td>368405</td>\n",
       "      <td>1509267</td>\n",
       "      <td>2075362.0</td>\n",
       "      <td>NaN</td>\n",
       "      <td>309.68</td>\n",
       "      <td>37.51</td>\n",
       "    </tr>\n",
       "    <tr>\n",
       "      <th>5</th>\n",
       "      <td>NaN</td>\n",
       "      <td>475892</td>\n",
       "      <td>1526921</td>\n",
       "      <td>2318035.0</td>\n",
       "      <td>NaN</td>\n",
       "      <td>220.85</td>\n",
       "      <td>51.81</td>\n",
       "    </tr>\n",
       "    <tr>\n",
       "      <th>6</th>\n",
       "      <td>45348.0</td>\n",
       "      <td>615247</td>\n",
       "      <td>1629720</td>\n",
       "      <td>2288229.0</td>\n",
       "      <td>1256.72</td>\n",
       "      <td>164.89</td>\n",
       "      <td>40.41</td>\n",
       "    </tr>\n",
       "    <tr>\n",
       "      <th>7</th>\n",
       "      <td>249047.0</td>\n",
       "      <td>771532</td>\n",
       "      <td>1578646</td>\n",
       "      <td>2187348.0</td>\n",
       "      <td>209.79</td>\n",
       "      <td>104.61</td>\n",
       "      <td>38.56</td>\n",
       "    </tr>\n",
       "    <tr>\n",
       "      <th>8</th>\n",
       "      <td>275944.0</td>\n",
       "      <td>860458</td>\n",
       "      <td>1731096</td>\n",
       "      <td>2396618.0</td>\n",
       "      <td>211.82</td>\n",
       "      <td>101.18</td>\n",
       "      <td>38.45</td>\n",
       "    </tr>\n",
       "    <tr>\n",
       "      <th>9</th>\n",
       "      <td>318729.0</td>\n",
       "      <td>1135782</td>\n",
       "      <td>1955305</td>\n",
       "      <td>2121006.0</td>\n",
       "      <td>256.35</td>\n",
       "      <td>72.15</td>\n",
       "      <td>8.47</td>\n",
       "    </tr>\n",
       "    <tr>\n",
       "      <th>10</th>\n",
       "      <td>346776.0</td>\n",
       "      <td>1361595</td>\n",
       "      <td>2105849</td>\n",
       "      <td>2547952.0</td>\n",
       "      <td>292.64</td>\n",
       "      <td>54.66</td>\n",
       "      <td>20.99</td>\n",
       "    </tr>\n",
       "    <tr>\n",
       "      <th>11</th>\n",
       "      <td>342807.0</td>\n",
       "      <td>1316799</td>\n",
       "      <td>1913514</td>\n",
       "      <td>NaN</td>\n",
       "      <td>284.12</td>\n",
       "      <td>45.32</td>\n",
       "      <td>NaN</td>\n",
       "    </tr>\n",
       "    <tr>\n",
       "      <th>12</th>\n",
       "      <td>293684.0</td>\n",
       "      <td>1141384</td>\n",
       "      <td>1752446</td>\n",
       "      <td>NaN</td>\n",
       "      <td>288.64</td>\n",
       "      <td>53.54</td>\n",
       "      <td>NaN</td>\n",
       "    </tr>\n",
       "  </tbody>\n",
       "</table>\n",
       "</div>"
      ],
      "text/plain": [
       "       2020_estimated_boardings  2021_estimated_boardings  \\\n",
       "month                                                       \n",
       "1                           NaN                    222208   \n",
       "2                           NaN                    231903   \n",
       "3                           NaN                    311295   \n",
       "4                           NaN                    368405   \n",
       "5                           NaN                    475892   \n",
       "6                       45348.0                    615247   \n",
       "7                      249047.0                    771532   \n",
       "8                      275944.0                    860458   \n",
       "9                      318729.0                   1135782   \n",
       "10                     346776.0                   1361595   \n",
       "11                     342807.0                   1316799   \n",
       "12                     293684.0                   1141384   \n",
       "\n",
       "       2022_estimated_boardings  2023_estimated_boardings  \\\n",
       "month                                                       \n",
       "1                        859440                 1840509.0   \n",
       "2                        970097                 1704568.0   \n",
       "3                       1489943                 2106535.0   \n",
       "4                       1509267                 2075362.0   \n",
       "5                       1526921                 2318035.0   \n",
       "6                       1629720                 2288229.0   \n",
       "7                       1578646                 2187348.0   \n",
       "8                       1731096                 2396618.0   \n",
       "9                       1955305                 2121006.0   \n",
       "10                      2105849                 2547952.0   \n",
       "11                      1913514                       NaN   \n",
       "12                      1752446                       NaN   \n",
       "\n",
       "       2020_2021_percentage  2021_2022_percentage  2022_2023_percentage  \n",
       "month                                                                    \n",
       "1                       NaN                286.77                114.15  \n",
       "2                       NaN                318.32                 75.71  \n",
       "3                       NaN                378.63                 41.38  \n",
       "4                       NaN                309.68                 37.51  \n",
       "5                       NaN                220.85                 51.81  \n",
       "6                   1256.72                164.89                 40.41  \n",
       "7                    209.79                104.61                 38.56  \n",
       "8                    211.82                101.18                 38.45  \n",
       "9                    256.35                 72.15                  8.47  \n",
       "10                   292.64                 54.66                 20.99  \n",
       "11                   284.12                 45.32                   NaN  \n",
       "12                   288.64                 53.54                   NaN  "
      ]
     },
     "execution_count": 310,
     "metadata": {},
     "output_type": "execute_result"
    }
   ],
   "source": [
    "## creating % percent increase/decrease between months per year columns for further analysis\n",
    "\n",
    "## Percentage Increase = [ (Final Value - Starting Value) / |Starting Value| ] × 100\n",
    "\n",
    "df2['2020_2021_percentage'] = round(((df2['2021_estimated_boardings'] - df2['2020_estimated_boardings']) / df2['2020_estimated_boardings'] * 100),2)\n",
    "df2['2021_2022_percentage'] = round(((df2['2022_estimated_boardings'] - df2['2021_estimated_boardings']) / df2['2021_estimated_boardings'] * 100),2)\n",
    "df2['2022_2023_percentage'] = round(((df2['2023_estimated_boardings'] - df2['2022_estimated_boardings']) / df2['2022_estimated_boardings'] * 100),2)\n",
    "\n",
    "df2.sort_values(by='month')\n"
   ]
  }
 ],
 "metadata": {
  "kernelspec": {
   "display_name": "Python 3 (ipykernel)",
   "language": "python",
   "name": "python3"
  },
  "language_info": {
   "codemirror_mode": {
    "name": "ipython",
    "version": 3
   },
   "file_extension": ".py",
   "mimetype": "text/x-python",
   "name": "python",
   "nbconvert_exporter": "python",
   "pygments_lexer": "ipython3",
   "version": "3.9.13"
  }
 },
 "nbformat": 4,
 "nbformat_minor": 5
}
